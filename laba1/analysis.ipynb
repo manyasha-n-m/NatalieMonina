{
 "cells": [
  {
   "cell_type": "code",
   "execution_count": 1,
   "metadata": {},
   "outputs": [],
   "source": [
    "import pandas as pd"
   ]
  },
  {
   "cell_type": "code",
   "execution_count": 2,
   "metadata": {},
   "outputs": [],
   "source": [
    "name='pr_vhi/vhi_{}.csv'"
   ]
  },
  {
   "cell_type": "code",
   "execution_count": 4,
   "metadata": {},
   "outputs": [],
   "source": [
    "frame = []\n",
    "for i in range(1, 26):\n",
    "    frame.append(pd.read_csv(name.format(i), sep='[, ]+', engine='python'))"
   ]
  },
  {
   "cell_type": "code",
   "execution_count": 5,
   "metadata": {},
   "outputs": [],
   "source": [
    "for i in frame:\n",
    "    i.drop(len(i.index)-1, inplace=True)"
   ]
  },
  {
   "cell_type": "code",
   "execution_count": 6,
   "metadata": {},
   "outputs": [],
   "source": [
    "for i in frame:\n",
    "    min_VHI=[]\n",
    "    max_VHI=[]\n",
    "    for j in i.index:\n",
    "        min_VHI.append(i.loc[i.year==i.year[j],'VHI'].min())\n",
    "        max_VHI.append(i.loc[i.year==i.year[j],'VHI'].max())\n",
    "    \n",
    "    i['y_min']=pd.Series(min_VHI)\n",
    "    i['y_max']=pd.Series(max_VHI)\n",
    "        "
   ]
  },
  {
   "cell_type": "code",
   "execution_count": 7,
   "metadata": {},
   "outputs": [],
   "source": [
    "extr=[]\n",
    "pom=[]\n",
    "for f in frame:\n",
    "    extr.append(f.loc[f.VHI<15,:])\n",
    "    pom.append(f.loc[(f.VHI>=15) & (f.VHI<35),:])"
   ]
  },
  {
   "cell_type": "code",
   "execution_count": 8,
   "metadata": {},
   "outputs": [
    {
     "data": {
      "text/html": [
       "<div>\n",
       "<style scoped>\n",
       "    .dataframe tbody tr th:only-of-type {\n",
       "        vertical-align: middle;\n",
       "    }\n",
       "\n",
       "    .dataframe tbody tr th {\n",
       "        vertical-align: top;\n",
       "    }\n",
       "\n",
       "    .dataframe thead th {\n",
       "        text-align: right;\n",
       "    }\n",
       "</style>\n",
       "<table border=\"1\" class=\"dataframe\">\n",
       "  <thead>\n",
       "    <tr style=\"text-align: right;\">\n",
       "      <th></th>\n",
       "      <th>year</th>\n",
       "      <th>week</th>\n",
       "      <th>SMN</th>\n",
       "      <th>SMT</th>\n",
       "      <th>VCI</th>\n",
       "      <th>TCI</th>\n",
       "      <th>VHI</th>\n",
       "      <th>y_min</th>\n",
       "      <th>y_max</th>\n",
       "    </tr>\n",
       "  </thead>\n",
       "  <tbody>\n",
       "    <tr>\n",
       "      <td>949</td>\n",
       "      <td>2000</td>\n",
       "      <td>47.0</td>\n",
       "      <td>0.041</td>\n",
       "      <td>274.89</td>\n",
       "      <td>7.55</td>\n",
       "      <td>14.94</td>\n",
       "      <td>11.25</td>\n",
       "      <td>11.25</td>\n",
       "      <td>63.27</td>\n",
       "    </tr>\n",
       "  </tbody>\n",
       "</table>\n",
       "</div>"
      ],
      "text/plain": [
       "     year  week    SMN     SMT   VCI    TCI    VHI  y_min  y_max\n",
       "949  2000  47.0  0.041  274.89  7.55  14.94  11.25  11.25  63.27"
      ]
     },
     "execution_count": 8,
     "metadata": {},
     "output_type": "execute_result"
    }
   ],
   "source": [
    "m = frame[0].VHI.max()\n",
    "frame[0][frame[0].VHI ==m]\n",
    "frame[0][frame[0].VHI == frame[0].VHI.min()]"
   ]
  },
  {
   "cell_type": "code",
   "execution_count": null,
   "metadata": {},
   "outputs": [],
   "source": []
  }
 ],
 "metadata": {
  "kernelspec": {
   "display_name": "Python 3",
   "language": "python",
   "name": "python3"
  },
  "language_info": {
   "codemirror_mode": {
    "name": "ipython",
    "version": 3
   },
   "file_extension": ".py",
   "mimetype": "text/x-python",
   "name": "python",
   "nbconvert_exporter": "python",
   "pygments_lexer": "ipython3",
   "version": "3.7.4"
  }
 },
 "nbformat": 4,
 "nbformat_minor": 2
}
